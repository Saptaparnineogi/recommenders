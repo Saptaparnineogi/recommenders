{
 "cells": [
  {
   "cell_type": "markdown",
   "metadata": {},
   "source": [
    "# Data analysis for Musical Instruments and Amazon Baby Products category"
   ]
  },
  {
   "cell_type": "code",
   "execution_count": 1,
   "metadata": {},
   "outputs": [],
   "source": [
    "import pandas as pd\n",
    "import gzip\n",
    "import matplotlib.pyplot as plt\n",
    "import numpy as np"
   ]
  },
  {
   "cell_type": "code",
   "execution_count": 2,
   "metadata": {},
   "outputs": [],
   "source": [
    "# Read jason files for review and metadata\n",
    "def parse(path):\n",
    "    '''\n",
    "    param path : path of the json file\n",
    "    '''\n",
    "    g = gzip.open(path, 'rb')\n",
    "    for l in g:\n",
    "        yield eval(l)\n",
    "\n",
    "# Create pandas dataframe from python dictionary\n",
    "def getDF(path):\n",
    "    '''\n",
    "    param path : path of the json file\n",
    "    '''\n",
    "    i = 0\n",
    "    df = {}\n",
    "    for d in parse(path):\n",
    "        df[i] = d\n",
    "        i += 1\n",
    "    return pd.DataFrame.from_dict(df, orient='index')\n",
    "\n",
    "# Create rating matrix of all products for each user\n",
    "def get_review(df1):\n",
    "    '''\n",
    "    param df1 : pandas dataframe with review data\n",
    "    '''\n",
    "    print(\"Creating review DF...\")\n",
    "    review_df = df1[[\"reviewerID\", \"asin\", \"overall\"]]\n",
    "    return review_df\n",
    "\n",
    "\n",
    "# Preprocess meta-data dataframe\n",
    "def get_metadata(df2):\n",
    "    '''\n",
    "    param df2 : pandas dataframe with meta-data\n",
    "    '''\n",
    "    print(\"Creating metadata DF...\")\n",
    "    df_related = df2[\"related\"].apply(pd.Series)\n",
    "    meta_df_without_related = pd.concat([df2, df_related], axis=1).drop(['related'], axis=1)\n",
    "    return meta_df_without_related\n"
   ]
  },
  {
   "cell_type": "markdown",
   "metadata": {},
   "source": [
    "# Dataset statistics for Baby products"
   ]
  },
  {
   "cell_type": "code",
   "execution_count": 4,
   "metadata": {},
   "outputs": [
    {
     "name": "stdout",
     "output_type": "stream",
     "text": [
      "Creating review DF...\n",
      "Creating metadata DF...\n",
      "Shape of meta dataframe:(71317, 13)\n"
     ]
    }
   ],
   "source": [
    "# Reading files to convert it to dataframe\n",
    "df1_baby = getDF('dataset/reviews_Baby.json.gz')\n",
    "df2_baby = getDF('dataset/meta_Baby.json.gz')\n",
    "asin_comp_baby = pd.read_csv('generatedData/asin_comp_baby.csv')\n",
    "asin_comp_baby = asin_comp_baby.dropna()\n",
    "\n",
    "# Create review dataframe for Amazon baby products\n",
    "review_df_baby = get_review(df1_baby)\n",
    "\n",
    "# Create meta-data dataframe for Amazon baby products\n",
    "meta_df_baby = get_metadata(df2_baby)\n",
    "print(\"Shape of meta dataframe:\" + str(meta_df_baby.shape))\n",
    "\n",
    "# Count number of ratings per user and per product\n",
    "comp_df_baby = meta_df_baby[['asin','also_bought']]\n",
    "comp_list_baby = comp_df_baby.apply(lambda x: pd.Series(x['also_bought']),axis=1).stack().reset_index(level=1, drop=True)\n",
    "comp_list_baby.name = 'compProd'\n",
    "comp_df_baby = comp_df_baby.drop('also_bought', axis=1).join(comp_list_baby)\n",
    "asin_rating_count = review_df_baby.groupby(\"asin\").count().reset_index()\n",
    "asin_rating_count = asin_rating_count[['asin', 'overall']]\n",
    "user_rating_count = review_df_baby.groupby(\"reviewerID\").count().reset_index()\n",
    "user_rating_count = user_rating_count[['reviewerID', 'overall']]\n",
    "\n",
    "# Count number of rated complementary products per user\n",
    "review_comp_baby = review_df_baby.merge(asin_comp_baby, left_on = 'asin', right_on='compProd')\n",
    "review_comp_user_baby = review_comp_baby[['reviewerID', 'compProd']]\n",
    "review_comp_user_baby = review_comp_user_baby.drop_duplicates()\n",
    "review_comp_user_count_baby = review_comp_user_baby.groupby('reviewerID', as_index=False).count()\n",
    "\n",
    "# Count number of rated complementary products per main prod\n",
    "review_comp_mainprod_baby = review_comp_baby[['asin_y', 'compProd']]\n",
    "review_comp_mainprod_baby = review_comp_mainprod_baby.drop_duplicates()\n",
    "review_comp_mainprod_count_baby = review_comp_mainprod_baby.groupby('asin_y', as_index=False).count()"
   ]
  },
  {
   "cell_type": "code",
   "execution_count": 5,
   "metadata": {},
   "outputs": [
    {
     "name": "stdout",
     "output_type": "stream",
     "text": [
      "Number of unique users for Baby products:531890\n",
      "Number of unique items in review dataframe for Baby products:64426\n",
      "Number of unique base products for Baby products:71317\n",
      "Number of unique complementary products for baby products:96183\n"
     ]
    }
   ],
   "source": [
    "print(\"Number of unique users for Baby products:\" +str(review_df_baby['reviewerID'].nunique()))\n",
    "print(\"Number of unique items in review dataframe for Baby products:\" +str(review_df_baby['asin'].nunique()))\n",
    "print(\"Number of unique base products for Baby products:\" +str(meta_df_baby['asin'].nunique()))\n",
    "print(\"Number of unique complementary products for baby products:\" +str(comp_df_baby['compProd'].nunique()))"
   ]
  },
  {
   "cell_type": "code",
   "execution_count": 37,
   "metadata": {},
   "outputs": [
    {
     "name": "stdout",
     "output_type": "stream",
     "text": [
      "Sparsity value of review dataframe is:0.9999732853346728\n"
     ]
    }
   ],
   "source": [
    "#Caculate sparsity value\n",
    "\n",
    "total_elements = review_df_baby['asin'].nunique() * review_df_baby['reviewerID'].nunique()\n",
    "no_of_ratings = review_df_baby.shape[0]\n",
    "sparsity = 1 - (no_of_ratings/total_elements)\n",
    "print(\"Sparsity value of review dataframe is:\" + str(sparsity))"
   ]
  },
  {
   "cell_type": "markdown",
   "metadata": {},
   "source": [
    "# Dataset statistics for Amazon Musical Instruments"
   ]
  },
  {
   "cell_type": "code",
   "execution_count": 36,
   "metadata": {},
   "outputs": [
    {
     "name": "stdout",
     "output_type": "stream",
     "text": [
      "Shape of review dataframe:(500176, 9)\n",
      "Shape of metadata dataframe:(84901, 9)\n",
      "Creating review DF...\n",
      "Creating metadata DF...\n"
     ]
    }
   ],
   "source": [
    "# Reading files to convert it to dataframe\n",
    "df1_music = getDF('dataset/reviews_Musical_Instruments.json.gz')\n",
    "print(\"Shape of review dataframe:\" + str(df1_music.shape))\n",
    "df2_music = getDF('dataset/meta_Musical_Instruments.json.gz')\n",
    "print(\"Shape of metadata dataframe:\" + str(df2_music.shape))\n",
    "review_df_music = get_review(df1_music)\n",
    "\n",
    "meta_df_music = get_metadata(df2_music)\n",
    "comp_df_music = meta_df_music[['asin', 'also_bought']]\n",
    "comp_list_music = comp_df_music.apply(lambda x: pd.Series(x['also_bought']),axis=1).stack().reset_index(level=1, drop=True)\n",
    "comp_list_music.name = 'compProd'\n",
    "\n",
    "comp_df_music = comp_df_music.drop('also_bought', axis=1).join(comp_list_music)\n",
    "\n",
    "asin_comp_music = pd.read_csv('generatedData/asin_comp.csv')\n",
    "asin_comp_music = asin_comp_music.dropna()\n",
    "m_review_comp = review_df_music.merge(asin_comp_music, left_on='asin', right_on='compProd')\n",
    "\n",
    "# Count of rated products per user\n",
    "review_comp_user = m_review_comp[['reviewerID', 'compProd']]\n",
    "review_comp_user = review_comp_user.drop_duplicates()\n",
    "review_comp_user_count = review_comp_user.groupby('reviewerID', as_index=False).count()\n",
    "\n",
    "# Count of rated comp prod per main prod\n",
    "review_comp_mainprod = m_review_comp[['asin_y', 'compProd']]\n",
    "review_comp_mainprod = review_comp_mainprod.drop_duplicates()\n",
    "m_review_comp_mainprod_count = review_comp_mainprod.groupby('asin_y', as_index=False).count()"
   ]
  },
  {
   "cell_type": "code",
   "execution_count": 21,
   "metadata": {},
   "outputs": [
    {
     "name": "stdout",
     "output_type": "stream",
     "text": [
      "Number of unique users Music:339231\n",
      "Number of unique items in review dataframe Music:83046\n",
      "Number of unique base products Music:84901\n",
      "Number of unique complementary products Music:147487\n"
     ]
    }
   ],
   "source": [
    "print(\"Number of unique users Music:\" + str(review_df_music['reviewerID'].nunique()))\n",
    "print(\"Number of unique items in review dataframe Music:\" + str(review_df_music['asin'].nunique()))\n",
    "print(\"Number of unique base products Music:\" + str(meta_df_music['asin'].nunique()))\n",
    "print(\"Number of unique complementary products Music:\" + str(comp_df_music['compProd'].nunique()))"
   ]
  },
  {
   "cell_type": "code",
   "execution_count": 38,
   "metadata": {},
   "outputs": [
    {
     "name": "stdout",
     "output_type": "stream",
     "text": [
      "Sparsity value of review dataframe is:0.9999822454938186\n"
     ]
    }
   ],
   "source": [
    "total_elements = review_df_music['asin'].nunique() * review_df_music['reviewerID'].nunique()\n",
    "no_of_ratings = review_df_music.shape[0]\n",
    "sparsity = 1 - (no_of_ratings / total_elements)\n",
    "print(\"Sparsity value of review dataframe is:\" + str(sparsity))"
   ]
  },
  {
   "cell_type": "markdown",
   "metadata": {},
   "source": [
    "# Data Visualization for both Dataset"
   ]
  },
  {
   "cell_type": "code",
   "execution_count": 23,
   "metadata": {},
   "outputs": [
    {
     "data": {
      "image/png": "[encoded data removed]",
      "text/plain": [
       "<matplotlib.figure.Figure at 0x7fa8e5835eb8>"
      ]
     },
     "metadata": {},
     "output_type": "display_data"
    }
   ],
   "source": [
    "# Visualization of rating data\n",
    "\n",
    "fig, ax = plt.subplots()\n",
    "review_df_baby.plot.hist(ax=ax, legend=None)\n",
    "review_df_music.plot.hist(ax=ax, legend=None)\n",
    "ax.legend([\"Baby products\",\"Amazon Music\"])\n",
    "ax.set_xlabel('Rating value', fontsize=12)\n",
    "ax.set_ylabel(\"Freequency of received rating\", fontsize=12)\n",
    "plt.tight_layout()\n",
    "plt.savefig(\"dataGraph/rating_distribution.png\")\n",
    "plt.show()"
   ]
  },
  {
   "cell_type": "code",
   "execution_count": 24,
   "metadata": {},
   "outputs": [
    {
     "data": {
      "image/png": "[encoded data removed]",
      "text/plain": [
       "<matplotlib.figure.Figure at 0x7fa8b5ef4240>"
      ]
     },
     "metadata": {},
     "output_type": "display_data"
    }
   ],
   "source": [
    "# Histogram for number of ratings received by each product\n",
    "\n",
    "asin_rating_count_baby = review_df_baby.groupby(\"asin\").count().reset_index()\n",
    "asin_rating_count_baby = asin_rating_count_baby[['asin', 'overall']]\n",
    "asin_rating_count_music = review_df_music.groupby(\"asin\").count().reset_index()\n",
    "asin_rating_count_music = asin_rating_count_music[['asin', 'overall']]\n",
    "\n",
    "fig1, ax = plt.subplots()\n",
    "asin_rating_count_music.plot.hist(ax=ax, bins=500, legend=None, color=\"tab:blue\")\n",
    "asin_rating_count_baby.plot.hist(ax=ax, bins=500, legend=None, alpha=0.7, color=\"tab:orange\")\n",
    "ax.legend([\"Amazon Music\", \"Baby products\"])\n",
    "ax.set_xlim(0,120)\n",
    "ax.set_xlabel('Rating count', fontsize=12)\n",
    "ax.set_ylabel('Number of products', fontsize=12)\n",
    "plt.tight_layout()\n",
    "plt.savefig('dataGraph/ratingsperproduct.png')\n",
    "plt.show()"
   ]
  },
  {
   "cell_type": "code",
   "execution_count": 25,
   "metadata": {},
   "outputs": [
    {
     "data": {
      "image/png": "[encoded data removed]",
      "text/plain": [
       "<matplotlib.figure.Figure at 0x7fa8b9a05128>"
      ]
     },
     "metadata": {},
     "output_type": "display_data"
    }
   ],
   "source": [
    "# Histogram for number of ratings given by each user\n",
    "\n",
    "user_rating_count_baby = review_df_baby.groupby(\"reviewerID\").count().reset_index()\n",
    "user_rating_count_baby = user_rating_count_baby[['reviewerID', 'overall']]\n",
    "user_rating_count_music = review_df_music.groupby(\"reviewerID\").count().reset_index()\n",
    "user_rating_count_music = user_rating_count_music[['reviewerID', 'overall']]\n",
    "\n",
    "fig1, ax = plt.subplots()\n",
    "user_rating_count_music.plot.hist(ax=ax, bins=200, legend=None)\n",
    "user_rating_count_baby.plot.hist(ax=ax, bins=200, legend=None)\n",
    "ax.legend([\"Amazon Music\", \"Baby products\"])\n",
    "\n",
    "ax.set_xlim(0,20)\n",
    "ax.set_xlabel('Rating count', fontsize=12)\n",
    "ax.set_ylabel('Number of users', fontsize=12)\n",
    "plt.tight_layout()\n",
    "plt.savefig('dataGraph/ratingsperuser.png')\n",
    "plt.show()"
   ]
  },
  {
   "cell_type": "code",
   "execution_count": 31,
   "metadata": {},
   "outputs": [
    {
     "data": {
      "image/png": "[encoded data removed]",
      "text/plain": [
       "<matplotlib.figure.Figure at 0x7fa8d7a7a400>"
      ]
     },
     "metadata": {},
     "output_type": "display_data"
    }
   ],
   "source": [
    "# Histogram for complementary product rating per user\n",
    "\n",
    "fig,ax = plt.subplots()\n",
    "m_review_comp_user_count.plot.hist(ax=ax, bins=100, legend=None)\n",
    "review_comp_user_count_baby.plot.hist(ax=ax, bins=100, legend=None)\n",
    "\n",
    "ax.legend([\"Amazon music\", \"Baby products\"])\n",
    "ax.set_xlabel('Number of rated complementary prod', fontsize=12)\n",
    "ax.set_ylabel('Number of users', fontsize=12)\n",
    "ax.set_xlim(0,20)\n",
    "plt.tight_layout()\n",
    "plt.savefig('dataGraph/compperuser.png')\n",
    "plt.show()"
   ]
  },
  {
   "cell_type": "code",
   "execution_count": 53,
   "metadata": {},
   "outputs": [
    {
     "data": {
      "image/png": "[encoded data removed]",
      "text/plain": [
       "<matplotlib.figure.Figure at 0x7fa893b98860>"
      ]
     },
     "metadata": {},
     "output_type": "display_data"
    },
    {
     "name": "stdout",
     "output_type": "stream",
     "text": [
      "Error in callback <bound method VarWatcher.auto_run_flake8 of <pycodestyle_magic.VarWatcher object at 0x7fa89a3f4550>> (for post_run_cell):\n"
     ]
    },
    {
     "ename": "TypeError",
     "evalue": "auto_run_flake8() missing 1 required positional argument: 'result'",
     "output_type": "error",
     "traceback": [
      "\u001b[0;31m---------------------------------------------------------------------------\u001b[0m",
      "\u001b[0;31mTypeError\u001b[0m                                 Traceback (most recent call last)",
      "\u001b[0;31mTypeError\u001b[0m: auto_run_flake8() missing 1 required positional argument: 'result'"
     ]
    },
    {
     "name": "stdout",
     "output_type": "stream",
     "text": [
      "Error in callback <bound method VarWatcher.auto_run_pycodestyle of <pycodestyle_magic.VarWatcher object at 0x7fa89a3f4550>> (for post_run_cell):\n"
     ]
    },
    {
     "ename": "TypeError",
     "evalue": "auto_run_pycodestyle() missing 1 required positional argument: 'result'",
     "output_type": "error",
     "traceback": [
      "\u001b[0;31m---------------------------------------------------------------------------\u001b[0m",
      "\u001b[0;31mTypeError\u001b[0m                                 Traceback (most recent call last)",
      "\u001b[0;31mTypeError\u001b[0m: auto_run_pycodestyle() missing 1 required positional argument: 'result'"
     ]
    },
    {
     "name": "stdout",
     "output_type": "stream",
     "text": [
      "Error in callback <bound method VarWatcher.auto_run_pycodestyle of <pycodestyle_magic.VarWatcher object at 0x7fa89a3f4550>> (for post_run_cell):\n"
     ]
    },
    {
     "ename": "TypeError",
     "evalue": "auto_run_pycodestyle() missing 1 required positional argument: 'result'",
     "output_type": "error",
     "traceback": [
      "\u001b[0;31m---------------------------------------------------------------------------\u001b[0m",
      "\u001b[0;31mTypeError\u001b[0m                                 Traceback (most recent call last)",
      "\u001b[0;31mTypeError\u001b[0m: auto_run_pycodestyle() missing 1 required positional argument: 'result'"
     ]
    },
    {
     "name": "stdout",
     "output_type": "stream",
     "text": [
      "Error in callback <bound method VarWatcher.auto_run_pycodestyle of <pycodestyle_magic.VarWatcher object at 0x7fa89a3f4550>> (for post_run_cell):\n"
     ]
    },
    {
     "ename": "TypeError",
     "evalue": "auto_run_pycodestyle() missing 1 required positional argument: 'result'",
     "output_type": "error",
     "traceback": [
      "\u001b[0;31m---------------------------------------------------------------------------\u001b[0m",
      "\u001b[0;31mTypeError\u001b[0m                                 Traceback (most recent call last)",
      "\u001b[0;31mTypeError\u001b[0m: auto_run_pycodestyle() missing 1 required positional argument: 'result'"
     ]
    }
   ],
   "source": [
    "# Histogram for complementary product rating per main product\n",
    "\n",
    "fig1, ax = plt.subplots()\n",
    "m_review_comp_mainprod_count.plot.hist(ax=ax, bins = 100, legend=None)\n",
    "review_comp_mainprod_count_baby.plot.hist(ax=ax, bins = 100, legend=None)\n",
    "ax.legend([\"Amazon music\", \"Baby products\"])\n",
    "ax.set_xlabel('Number of rated complementary prod', fontsize=12)\n",
    "ax.set_ylabel('Number of main product', fontsize=12)\n",
    "plt.tight_layout()\n",
    "plt.savefig('dataGraph/comppermain.png')\n",
    "plt.show()\n"
   ]
  },
  {
   "cell_type": "code",
   "execution_count": null,
   "metadata": {},
   "outputs": [],
   "source": []
  }
 ],
 "metadata": {
  "kernelspec": {
   "display_name": "Python 3",
   "language": "python",
   "name": "python3"
  },
  "language_info": {
   "codemirror_mode": {
    "name": "ipython",
    "version": 3
   },
   "file_extension": ".py",
   "mimetype": "text/x-python",
   "name": "python",
   "nbconvert_exporter": "python",
   "pygments_lexer": "ipython3",
   "version": "3.6.3"
  }
 },
 "nbformat": 4,
 "nbformat_minor": 2
}
